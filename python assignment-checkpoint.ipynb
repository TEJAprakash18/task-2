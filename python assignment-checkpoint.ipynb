{
 "cells": [
  {
   "cell_type": "code",
   "execution_count": 1,
   "id": "15b113d8",
   "metadata": {},
   "outputs": [
    {
     "name": "stdout",
     "output_type": "stream",
     "text": [
      "python\n"
     ]
    }
   ],
   "source": [
    "a=\"python\"\n",
    "print(a)"
   ]
  },
  {
   "cell_type": "code",
   "execution_count": 2,
   "id": "74c8eac4",
   "metadata": {},
   "outputs": [
    {
     "data": {
      "text/plain": [
       "'hello world'"
      ]
     },
     "execution_count": 2,
     "metadata": {},
     "output_type": "execute_result"
    }
   ],
   "source": [
    "a=\"hello world\"\n",
    "a"
   ]
  },
  {
   "cell_type": "code",
   "execution_count": 62,
   "id": "f62820d4",
   "metadata": {},
   "outputs": [
    {
     "name": "stdout",
     "output_type": "stream",
     "text": [
      "addition of a: 10 &b: 3 is: 13\n",
      "substrac of a: 10 &b: 3 is: 7\n",
      "multipli of a: 10 &b: 3 is: 30\n",
      "division of a: 10 &b: 3 is: 3.3333333333333335\n",
      "floordiv of a: 10 &b: 3 is: 3\n",
      "moduli   of a: 10 &b: 3 is: 1\n",
      "exponent of a: 10 &b: 3 is: 1000\n"
     ]
    }
   ],
   "source": [
    "a=10 \n",
    "b=3 \n",
    "print(\"addition of a:\",a,\"&b:\",b,\"is:\",a+b) \n",
    "print(\"substrac of a:\",a,\"&b:\",b,\"is:\",a-b) \n",
    "print(\"multipli of a:\",a,\"&b:\",b,\"is:\",a*b) \n",
    "print(\"division of a:\",a,\"&b:\",b,\"is:\",a/b) \n",
    "print(\"floordiv of a:\",a,\"&b:\",b,\"is:\",a//b) \n",
    "print(\"moduli   of a:\",a,\"&b:\",b,\"is:\",a%b) \n",
    "print(\"exponent of a:\",a,\"&b:\",b,\"is:\",a**b) "
   ]
  },
  {
   "cell_type": "code",
   "execution_count": 10,
   "id": "e636155a",
   "metadata": {},
   "outputs": [
    {
     "name": "stdout",
     "output_type": "stream",
     "text": [
      "2 <class 'int'>\n",
      "False <class 'int'>\n",
      "0.5 <class 'float'>\n",
      "(1+3j) <class 'complex'>\n"
     ]
    }
   ],
   "source": [
    "#Python datatypes\n",
    "\n",
    "h=\"hai\"#string\n",
    "i=2\n",
    "j='False'#boolean\n",
    "aa=0.5 #float\n",
    "c\n",
    "print(i,type(i))\n",
    "print(j,type(b))\n",
    "print(aa,type(aa))\n",
    "f=1+3j\n",
    "print(f,type(f)) #complex"
   ]
  },
  {
   "cell_type": "code",
   "execution_count": 11,
   "id": "53c995bd",
   "metadata": {},
   "outputs": [
    {
     "name": "stdout",
     "output_type": "stream",
     "text": [
      "['a', '1', '0.01'] <class 'list'>\n",
      "('a', '1', '0.01') <class 'tuple'>\n",
      "{'1', 'a', '0.01'} <class 'set'>\n",
      "{'fruit': 'mango', 'vegetable': 'carrot'} <class 'dict'>\n"
     ]
    }
   ],
   "source": [
    "a=[\"a\",\"1\",\"0.01\"] #list\n",
    "print(a,type(a))\n",
    "c=(\"a\",\"1\",\"0.01\") #tuple\n",
    "print(c,type(c))\n",
    "b={\"a\",\"1\",\"0.01\"} #set\n",
    "print(b,type(b))\n",
    "e={\"fruit\":\"mango\",\"vegetable\":\"carrot\"}# dictinoary\n",
    "print(e,type(e))"
   ]
  },
  {
   "cell_type": "code",
   "execution_count": 12,
   "id": "bc59f51a",
   "metadata": {},
   "outputs": [
    {
     "name": "stdout",
     "output_type": "stream",
     "text": [
      "50\n"
     ]
    }
   ],
   "source": [
    "a=20\n",
    "b=30\n",
    "print(a+b)"
   ]
  },
  {
   "cell_type": "code",
   "execution_count": 15,
   "id": "49b3b9a2",
   "metadata": {},
   "outputs": [
    {
     "name": "stdout",
     "output_type": "stream",
     "text": [
      "helloworld\n"
     ]
    }
   ],
   "source": [
    "a=\"hello\"\n",
    "b=\"world\"\n",
    "print(a+b)"
   ]
  },
  {
   "cell_type": "code",
   "execution_count": 21,
   "id": "dfdfe388",
   "metadata": {},
   "outputs": [
    {
     "name": "stdout",
     "output_type": "stream",
     "text": [
      "50\n",
      "800\n"
     ]
    }
   ],
   "source": [
    "#type casting\n",
    "a=\"50\" # string to int\n",
    "b=int(a)\n",
    "print(b)\n",
    "c=800.0 #float to int\n",
    "d=int(c)\n",
    "print(d)"
   ]
  },
  {
   "cell_type": "code",
   "execution_count": 22,
   "id": "cb0070df",
   "metadata": {},
   "outputs": [
    {
     "name": "stdout",
     "output_type": "stream",
     "text": [
      "Hello World\n"
     ]
    }
   ],
   "source": [
    "#To add a space between them, add a \" \":\n",
    "\n",
    "a = \"Hello\"\n",
    "b = \"World\"\n",
    "c = a + \" \" + b\n",
    "print(c)"
   ]
  },
  {
   "cell_type": "code",
   "execution_count": 25,
   "id": "34f41453",
   "metadata": {},
   "outputs": [
    {
     "name": "stdout",
     "output_type": "stream",
     "text": [
      "llo\n",
      "Hello\n",
      "orl\n"
     ]
    }
   ],
   "source": [
    "#STRING SLICING\n",
    "#Get the characters from position 2 to position 5 (not included):\n",
    "\n",
    "b = \"Hello, World!\"\n",
    "print(b[2:5])\n",
    "#Get the characters from the start to position 5 (not included):\n",
    "print(b[:5])\n",
    "#From: \"o\" in \"World!\" (position -5) To, but not included: \"d\" in \"World!\" (position -2):\n",
    "print(b[-5:-2])\n"
   ]
  },
  {
   "cell_type": "code",
   "execution_count": 26,
   "id": "6bcd79f5",
   "metadata": {},
   "outputs": [
    {
     "name": "stdout",
     "output_type": "stream",
     "text": [
      "HELLO, WORLD!\n",
      "hello, world!\n",
      "Hello, World!\n",
      "['Hello', ' World!']\n"
     ]
    }
   ],
   "source": [
    "#string operations\n",
    "#The upper() method returns the string in upper case:\n",
    "a = \"Hello, World!\"\n",
    "print(a.upper())\n",
    "#The lower() method returns the string in lower case:\n",
    "print(a.lower())\n",
    "#The strip() method removes any whitespace from the beginning or the end:\n",
    "print(a.strip()) # returns \"Hello, World!\"\n",
    "#The split() method splits the string into substrings if it finds instances of the separator:\n",
    "print(a.split(\",\")) # returns ['Hello', ' World!']"
   ]
  },
  {
   "cell_type": "code",
   "execution_count": 27,
   "id": "d4bb95f2",
   "metadata": {},
   "outputs": [
    {
     "name": "stdout",
     "output_type": "stream",
     "text": [
      "My name is John, and I am 36\n"
     ]
    }
   ],
   "source": [
    "#Use the format() method to insert numbers into strings:\n",
    "\n",
    "age = 36\n",
    "txt = \"My name is John, and I am {}\"\n",
    "print(txt.format(age))"
   ]
  },
  {
   "cell_type": "code",
   "execution_count": 28,
   "id": "16615e9e",
   "metadata": {},
   "outputs": [
    {
     "name": "stdout",
     "output_type": "stream",
     "text": [
      "I want to pay 49.95 dollars for 3 pieces of item 567.\n"
     ]
    }
   ],
   "source": [
    "quantity = 3\n",
    "itemno = 567\n",
    "price = 49.95\n",
    "myorder = \"I want to pay {2} dollars for {0} pieces of item {1}.\"\n",
    "print(myorder.format(quantity, itemno, price))"
   ]
  },
  {
   "cell_type": "code",
   "execution_count": 29,
   "id": "3f1f1e21",
   "metadata": {},
   "outputs": [
    {
     "name": "stdout",
     "output_type": "stream",
     "text": [
      "We are the so-called \"Vikings\" from the north.\n"
     ]
    }
   ],
   "source": [
    "#The escape character allows you to use double quotes when you normally would not be allowed:\n",
    "\n",
    "txt = \"We are the so-called \\\"Vikings\\\" from the north.\"\n",
    "print(txt)"
   ]
  },
  {
   "cell_type": "code",
   "execution_count": 63,
   "id": "07d466af",
   "metadata": {},
   "outputs": [
    {
     "name": "stdout",
     "output_type": "stream",
     "text": [
      "the value of s is: Venkata\n",
      "the value of v is: Subhramanyam\n",
      "after concatenating s and v the string is: VenkataSubhramanyam\n",
      "NOTE: variables after '+' operator must be converted to string before using them as strings\n",
      " otherwise value will be considered as its class type\n",
      "The value of pi is 3.14\n"
     ]
    }
   ],
   "source": [
    "#program to create, concatenate and print a string and accessing sub-string from a given string\n",
    "pi=3.14 \n",
    "s= \"Venkata\" \n",
    "v= \"Subhramanyam\" \n",
    "print(\"the value of s is:\",s) \n",
    "print(\"the value of v is:\",v) \n",
    "string_add = s+v \n",
    "print(\"after concatenating s and v the string is:\",s+v) \n",
    "text = 'The value of pi is ' + str(pi) \n",
    "print(\"NOTE: variables after '+' operator must be converted to string before using them as strings\\n otherwise value will be considered as its class type\") \n",
    "print(text) "
   ]
  },
  {
   "cell_type": "code",
   "execution_count": 40,
   "id": "e6c8b2df",
   "metadata": {},
   "outputs": [
    {
     "name": "stdout",
     "output_type": "stream",
     "text": [
      "('appu', 'bashi', 'cherry', 'mani', 'messi')\n",
      "5\n",
      "<class 'tuple'>\n",
      "bashi\n",
      "messi\n",
      "('cherry', 'mani', 'messi')\n",
      "('appu', 'bashi', 'cherry', 'mani', 'messi')\n"
     ]
    }
   ],
   "source": [
    "#tuples\n",
    "c = (\"appu\", \"bashi\", \"cherry\",\"mani\",\"messi\")\n",
    "print(c)\n",
    "print(len(c))\n",
    "print(type(c))\n",
    "print(c[1]) #Print the second item in the tuple:\n",
    "#Print the last item of the tuple:\n",
    "print(c[-1])\n",
    "#Return the third, fourth, and fifth item:\n",
    "print(c[2:5])\n",
    "#You cannot add items to a tuple:\n",
    "#c.append(\"honey\") # This will raise an error\n",
    "print(c)"
   ]
  },
  {
   "cell_type": "code",
   "execution_count": 45,
   "id": "77cce87c",
   "metadata": {},
   "outputs": [
    {
     "name": "stdout",
     "output_type": "stream",
     "text": [
      "('apple', 'kiwi', 'cherry')\n"
     ]
    }
   ],
   "source": [
    "#Convert the tuple into a list to be able to change it:\n",
    "x = (\"apple\", \"banana\", \"cherry\")\n",
    "y = list(x)\n",
    "y[1] = \"kiwi\"\n",
    "x = tuple(y)\n",
    "\n",
    "print(x)\n"
   ]
  },
  {
   "cell_type": "code",
   "execution_count": 66,
   "id": "634a1b58",
   "metadata": {},
   "outputs": [
    {
     "name": "stdout",
     "output_type": "stream",
     "text": [
      "{'name': 'siiet', 'code': 'INDI', 'id': 'x3'}\n",
      "{'name': 'siiet', 'code': 'INDI', 'id': 'x3', 'location': 'IBP'}\n",
      "{'name': 'siiet', 'code': 'INDI', 'id': 'x3', 'location': 'sheriguda'}\n",
      "{'name': 'siiet', 'id': 'x3', 'location': 'sheriguda'}\n",
      "length of college is: 3\n",
      "{'name': 'siiet', 'id': 'x3', 'location': 'sheriguda'}\n"
     ]
    }
   ],
   "source": [
    "# creating a dictionary for SIIET\n",
    "college = {\"name\": \"siiet\",\"code\": \"INDI\",\"id\": \"x3\"} \n",
    "print(college) \n",
    "#adding items to dictionary \n",
    "college[\"location\"] = \"IBP\"\n",
    "print(college)\n",
    " #changing values of a key \n",
    "college[\"location\"] = \"sheriguda\" \n",
    "print(college) \n",
    "# to remove items use pop() \n",
    "college.pop(\"code\") \n",
    "print(college) \n",
    "#know the length usig len() \n",
    "print(\"length of college is:\",len(college)) \n",
    "#to copy the same dictionary use copy() \n",
    "my_college= college.copy()\n",
    "print(my_college) "
   ]
  },
  {
   "cell_type": "code",
   "execution_count": 47,
   "id": "fdb03489",
   "metadata": {},
   "outputs": [
    {
     "name": "stdout",
     "output_type": "stream",
     "text": [
      "['Asia', 'Africa', 'Europe', 'Australia']\n",
      "---------------\n",
      "['Asia', 'America', 'Africa', 'Europe', 'Australia']\n",
      "---------------\n",
      "['Asia', 'America', 'Africa', 'Europe', 'Australia', 'Antarctica']\n",
      "---------------\n",
      "['Asia', 'America', 'Africa', 'Europe', 'Australia']\n",
      "---------------\n",
      "['Asia', 'America', 'Africa', 'Europe']\n",
      "---------------\n"
     ]
    }
   ],
   "source": [
    "#list methods\n",
    "\n",
    "list=[\"Asia\",\"Africa\",\"Europe\"]\n",
    "list.append(\"Australia\")#adds the element at the end\n",
    "print(list)\n",
    "print(\"---------------\")\n",
    "\n",
    "list.insert(1,\"America\")#inserts the element at the specifies position\n",
    "print(list)\n",
    "print(\"---------------\")\n",
    "\n",
    "list2=[\"Antarctica\"]\n",
    "list.extend(list2)#aappends a list2 to list  \n",
    "print(list)\n",
    "print(\"---------------\")\n",
    "\n",
    "list.remove(\"Antarctica\")#remove the specified element\n",
    "print(list)\n",
    "print(\"---------------\")\n",
    "\n",
    "list.pop()#deletes the last element\n",
    "print(list)\n",
    "print(\"---------------\")\n"
   ]
  },
  {
   "cell_type": "code",
   "execution_count": 65,
   "id": "d77c9994",
   "metadata": {},
   "outputs": [
    {
     "name": "stdout",
     "output_type": "stream",
     "text": [
      "['SIIET', 'GNIT', 'AVN']\n",
      "['SIIET', 'GNIT', 'AVN', 'MVSR']\n",
      "['SIIET', 'BHARAT', 'GNIT', 'AVN', 'MVSR']\n",
      "['SIIET', 'GNIT', 'AVN', 'MVSR']\n",
      "['SIIET', 'AVN', 'MVSR']\n"
     ]
    }
   ],
   "source": [
    "# creating list with college names.. \n",
    "colleges = [\"SIIET\", \"GNIT\", \"AVN\"] \n",
    "print(colleges) \n",
    "# appending new college in collges list \n",
    "colleges.append(\"MVSR\") #checking if its added or not\n",
    "print(colleges) \n",
    "#adding a new college at a positon\n",
    "colleges.insert(1,\"BHARAT\")\n",
    "print(colleges) \n",
    "#remove a name from colleges \n",
    "colleges.remove(\"BHARAT\")\n",
    "print(colleges) \n",
    "#remove a name with an index value \n",
    "del colleges[1] \n",
    "# NOTE: index starts from 0 so 2nd value in list will be removed \n",
    "print(colleges) \n"
   ]
  },
  {
   "cell_type": "code",
   "execution_count": 57,
   "id": "4c6b22ec",
   "metadata": {},
   "outputs": [
    {
     "name": "stdout",
     "output_type": "stream",
     "text": [
      "{'cherry', 'banana', 'apple'}\n"
     ]
    }
   ],
   "source": [
    "#Create a Set:\n",
    "\n",
    "thisset = {\"apple\", \"banana\", \"cherry\"}\n",
    "print(thisset)"
   ]
  },
  {
   "cell_type": "code",
   "execution_count": 43,
   "id": "756d94c1",
   "metadata": {},
   "outputs": [
    {
     "name": "stdout",
     "output_type": "stream",
     "text": [
      "Average speed = 8.71 miles per hour\n"
     ]
    }
   ],
   "source": [
    "sec_to_hr = 1/3600 # 3600 seconds in 1 hour\n",
    "min_to_hr = 1/60 # 60 minutes in 1 hour\n",
    "km_to_miles = 0.62 # 0.62 miles in 1 kilometer\n",
    "\n",
    "time_hrs = 0+ (42*min_to_hr)+ (42*sec_to_hr) # Total time in hours\n",
    "dist_miles = 10 * km_to_miles # Total time in miles\n",
    "\n",
    "av_speed = dist_miles/time_hrs # Average Speed in miles/hour\n",
    "\n",
    "answer1 = \"Average speed = {} miles per hour\".format(round(av_speed,2))\n",
    "\n",
    "print(answer1)"
   ]
  },
  {
   "cell_type": "code",
   "execution_count": 42,
   "id": "128f7fc7",
   "metadata": {},
   "outputs": [
    {
     "name": "stdout",
     "output_type": "stream",
     "text": [
      "Average pace per mile = 10 minutes and 48 seconds\n"
     ]
    }
   ],
   "source": [
    "pace_dist = 1 # In 1 mile\n",
    "\n",
    "pace_time_hr = round(pace_dist/av_speed, 2)\n",
    "pace_time_min = round(pace_time_hr * 60, 2)\n",
    "pace_time_sec = round(pace_time_min % 1,2) * 60\n",
    "\n",
    "answer2 = \"Average pace per mile = {} minutes and {} seconds\".format(int(pace_time_min), int(pace_time_sec))\n",
    "print(answer2)"
   ]
  },
  {
   "cell_type": "code",
   "execution_count": 44,
   "id": "4dc091e9",
   "metadata": {},
   "outputs": [
    {
     "name": "stdout",
     "output_type": "stream",
     "text": [
      "1\n",
      "22\n",
      "333\n",
      "4444\n"
     ]
    }
   ],
   "source": [
    "for k in range(1,5):\n",
    "    for l in range(1,k+1):\n",
    "        print(k,end='')\n",
    "    print()\n"
   ]
  },
  {
   "cell_type": "code",
   "execution_count": 60,
   "id": "73e1bf26",
   "metadata": {},
   "outputs": [
    {
     "name": "stdout",
     "output_type": "stream",
     "text": [
      "1.4142135623730951\n",
      "3.141592653589793\n"
     ]
    }
   ],
   "source": [
    "#modules in python\n",
    "#modules are imported which are packages or other files\n",
    "#import keyword is used\n",
    "\n",
    "import math\n",
    "print(math.sqrt(2))\n",
    "print(math.pi)"
   ]
  },
  {
   "cell_type": "code",
   "execution_count": 64,
   "id": "49cdd748",
   "metadata": {},
   "outputs": [
    {
     "name": "stdout",
     "output_type": "stream",
     "text": [
      "Wed May 19 18:59:30 2021\n"
     ]
    }
   ],
   "source": [
    "import time \n",
    "import datetime\n",
    "x = datetime.datetime.now() \n",
    "print(x.strftime(\"%c\")) "
   ]
  },
  {
   "cell_type": "code",
   "execution_count": 69,
   "id": "903b35be",
   "metadata": {},
   "outputs": [
    {
     "name": "stdout",
     "output_type": "stream",
     "text": [
      "enter a,b,c values:10 20 30\n",
      "c is greater than a and b\n"
     ]
    }
   ],
   "source": [
    "# user-defined function to know which number is larger\n",
    "def bigOf3(a,b,c): \n",
    "  if(a>b): \n",
    "    if(a>c):\n",
    "      print(\"a is greater than b and c\") \n",
    "    else: \n",
    "      print(\"c is greater than a and b\") \n",
    "  elif(b>c): \n",
    "    print(\"b is greater than a and c\") \n",
    "  else:\n",
    "    print(\"c is greater than a and b\") \n",
    "txt= input(\"enter a,b,c values:\") \n",
    "a,b,c= txt.split() \n",
    "bigOf3(int(a),int(b),int(c)) #calling the function \n",
    " "
   ]
  },
  {
   "cell_type": "code",
   "execution_count": 71,
   "id": "a7c5e23e",
   "metadata": {},
   "outputs": [
    {
     "name": "stdout",
     "output_type": "stream",
     "text": [
      "enter range of prime numbers:20\n",
      "2\n",
      "3\n",
      "5\n",
      "7\n",
      "11\n",
      "13\n",
      "17\n",
      "19\n"
     ]
    }
   ],
   "source": [
    "#python program to print prime numbers less than 20:\n",
    "n=int(input(\"enter range of prime numbers:\"))\n",
    "for num in range(2,n+1):  #takes each number \n",
    "   count=0 \n",
    "   for i in range(2,num//2+1):\n",
    "      #checks the divisibility of each num \n",
    "      if(num%i==0): \n",
    "        count=count+1 #if its noot prime count increases. \n",
    "   if(count==0): \n",
    "     print(num) \n"
   ]
  },
  {
   "cell_type": "code",
   "execution_count": 73,
   "id": "d846a8eb",
   "metadata": {},
   "outputs": [
    {
     "name": "stdout",
     "output_type": "stream",
     "text": [
      "5\n"
     ]
    }
   ],
   "source": [
    "def fun(a,b):\n",
    "  if(a>0 and b>0):\n",
    "    return fun(-7,10)+fun(b-2,a-1)\n",
    "  return a+b\n",
    "print(fun(2,3))"
   ]
  },
  {
   "cell_type": "code",
   "execution_count": 76,
   "id": "a4997cc6",
   "metadata": {},
   "outputs": [
    {
     "name": "stdout",
     "output_type": "stream",
     "text": [
      "ENTER A NUMBER:100\n",
      "roman numeral of given number is: C\n"
     ]
    }
   ],
   "source": [
    "class roman_solution: \n",
    "  def int_to_Roman(num): \n",
    "    val=[1000, 900, 500, 400, 100, 90, 50, 40,10,9, 5, 4, 1] \n",
    "    syb=[\"M\",\"CM\",\"D\",\"CD\",\"C\",\"XC\",\"L\",\"XL\",\"X\",\"IX\",\"V\",\"IV\",\"I\"]  \n",
    "    roman_num=\"\" \n",
    "    i=0 \n",
    "    if(n<1 or n>3999):\n",
    "      print(\"ENTER A GOOD VALUE!\")\n",
    "    else: \n",
    "      while num > 0: \n",
    "        if(num-val[i]>=0): \n",
    "          roman_num+=syb[i] \n",
    "          num-=val[i] \n",
    "        else:\n",
    "          i+=1 \n",
    "    return roman_num \n",
    "n=int(input(\"ENTER A NUMBER:\")) \n",
    "print(\"roman numeral of given number is:\",roman_solution.int_to_Roman(n)) "
   ]
  },
  {
   "cell_type": "code",
   "execution_count": null,
   "id": "1762f53b",
   "metadata": {},
   "outputs": [],
   "source": []
  }
 ],
 "metadata": {
  "kernelspec": {
   "display_name": "Python 3",
   "language": "python",
   "name": "python3"
  },
  "language_info": {
   "codemirror_mode": {
    "name": "ipython",
    "version": 3
   },
   "file_extension": ".py",
   "mimetype": "text/x-python",
   "name": "python",
   "nbconvert_exporter": "python",
   "pygments_lexer": "ipython3",
   "version": "3.6.1"
  }
 },
 "nbformat": 4,
 "nbformat_minor": 5
}
